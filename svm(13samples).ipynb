{
 "cells": [
  {
   "cell_type": "code",
   "execution_count": 11,
   "id": "e8cad0cb-1fc3-4874-961c-0fcfbf7beb84",
   "metadata": {},
   "outputs": [],
   "source": [
    "import os\n",
    "import numpy as np\n",
    "import pandas as pd\n",
    "import librosa\n",
    "import parselmouth\n",
    "from scipy.signal import lfilter\n",
    "from python_speech_features import mfcc, delta\n",
    "from parselmouth.praat import call\n",
    "from numpy.linalg import lstsq"
   ]
  },
  {
   "cell_type": "code",
   "execution_count": 12,
   "id": "ed062d61-c8c4-409a-88e8-76544536e2b2",
   "metadata": {},
   "outputs": [],
   "source": [
    "data_dir = \"PD_Detection\"\n",
    "output_csv = \"voice_features_final.csv\""
   ]
  },
  {
   "cell_type": "code",
   "execution_count": 24,
   "id": "eab59117-5e3d-4946-893f-fc7a688c12c1",
   "metadata": {},
   "outputs": [],
   "source": [
    "def extract_jitter_shimmer_hnr_f0(y, sr):\n",
    "    try:\n",
    "        snd = parselmouth.Sound(y, sr)\n",
    "        point_process = call(snd, \"To PointProcess (periodic, cc)\", 75, 500)\n",
    "\n",
    "        jitter = call(point_process, \"Get jitter (local)\", 0, 0, 0.0001, 0.02, 1.3)\n",
    "        shimmer = call([snd, point_process], \"Get shimmer (local)\", 0, 0, 0.0001, 0.02, 1.3, 1.6)\n",
    "\n",
    "        hnr_obj = call(snd, \"To Harmonicity (cc)\", 0.01, 75, 0.1, 1.0)\n",
    "        hnr_value = hnr_obj.get_value(0.0)  \n",
    "\n",
    "        pitch = call(snd, \"To Pitch\", 0.0, 75, 15)\n",
    "        f0_mean = call(pitch, \"Get mean\", 0, 0, \"Hertz\")\n",
    "\n",
    "        if np.isnan(f0_mean):\n",
    "            f0_mean = 0.0\n",
    "\n",
    "        return jitter, shimmer, hnr_value, f0_mean\n",
    "\n",
    "    except Exception as e:\n",
    "        print(f\"Pitch/HNR extraction failed: {e}\")\n",
    "        return 0.0, 0.0, 0.0, 0.0"
   ]
  },
  {
   "cell_type": "code",
   "execution_count": 14,
   "id": "55d5f71d-74dc-4fe3-9579-cf5079d1221d",
   "metadata": {},
   "outputs": [],
   "source": [
    "def extract_mfcc(y, sr):\n",
    "    mfccs = librosa.feature.mfcc(y=y, sr=sr, n_mfcc=13)\n",
    "    return np.mean(mfccs, axis=1)"
   ]
  },
  {
   "cell_type": "code",
   "execution_count": 15,
   "id": "dc77e72a-19f9-421a-8ade-d7ecc44072cf",
   "metadata": {},
   "outputs": [],
   "source": [
    "def extract_gfcc(y, sr):\n",
    "    gfccs = librosa.feature.mfcc(y=y, sr=sr, n_mfcc=13)\n",
    "    return np.mean(gfccs, axis=1)"
   ]
  },
  {
   "cell_type": "code",
   "execution_count": 16,
   "id": "902a5b51-ecf2-429d-b0ff-db742b47b352",
   "metadata": {},
   "outputs": [],
   "source": [
    "def extract_lpc(y, sr, order=13):\n",
    "    N = len(y)\n",
    "    A = np.zeros((N - order, order))\n",
    "    for i in range(order):\n",
    "        A[:, i] = y[order - i - 1:N - i - 1]\n",
    "    b = y[order:]\n",
    "    coeffs, _, _, _ = lstsq(A, b, rcond=None)\n",
    "    return coeffs[:order]"
   ]
  },
  {
   "cell_type": "code",
   "execution_count": 17,
   "id": "aa7447c8-e6d7-4744-aa7f-8456b2d4e3ba",
   "metadata": {},
   "outputs": [],
   "source": [
    "def extract_lpcc(lpc_coeffs, order=13):\n",
    "    lpcc = np.zeros(order)\n",
    "    for n in range(order):\n",
    "        lpcc[n] = lpc_coeffs[n] if n < len(lpc_coeffs) else 0\n",
    "    return lpcc"
   ]
  },
  {
   "cell_type": "code",
   "execution_count": 18,
   "id": "443315dd-026d-46fd-b17c-398deba73129",
   "metadata": {},
   "outputs": [
    {
     "name": "stdout",
     "output_type": "stream",
     "text": [
      "Processing: PD_Detection/Healthy/AH_121A_BD5BA248-E807-4CB9-8B53-47E7FFE5F8E2.wav\n",
      "Processing: PD_Detection/Healthy/AH_292J_201CB911-31C1-4CD0-BD73-4FBA4A16C21F.wav\n",
      "Processing: PD_Detection/Healthy/AH_064F_7AB034C9-72E4-438B-A9B3-AD7FDA1596C5.wav\n",
      "Processing: PD_Detection/Healthy/AH_264Z_593C20CD-0A54-4177-B031-26EE147080A3.wav\n",
      "Processing: PD_Detection/Healthy/AH_197T_7552379A-2310-46E1-9466-9D8045C990B8.wav\n",
      "Processing: PD_Detection/Healthy/AH_195B_39DA6A45-F4CC-492A-80D4-FB79049ACC22.wav\n",
      "Processing: PD_Detection/Healthy/AH_222K_FC9D2763-1836-460B-954F-37F23D6CD81D.wav\n",
      "Processing: PD_Detection/Healthy/AH_325J_7F5F27AA-5A93-43CF-AB17-FC53940BF4B0.wav\n",
      "Processing: PD_Detection/Healthy/AH_333L_6C551A6E-CC47-410E-AA49-2DC0A86E6489.wav\n",
      "Processing: PD_Detection/Healthy/AH_325A_3EB21DC7-C340-4D0E-AC9E-0EABF217BBEE.wav\n",
      "Processing: PD_Detection/Healthy/AH_322A_C3BF5535-A11E-498E-94EB-BE7E74099FFB.wav\n",
      "Processing: PD_Detection/Healthy/AH_114S_A89F3548-0B61-4770-B800-2E26AB3908B6.wav\n",
      "Processing: PD_Detection/Healthy/AH_123G_559F0706-2238-447C-BA39-DB5933BA619D.wav\n",
      "Processing: PD_Detection/PD/AH_545622719-52C23861-6E0D-41E0-A3D8-9358C28C019B.wav\n",
      "Processing: PD_Detection/PD/AH_545713221-1E77C030-4558-4A88-B1A2-6AB777ACAE61.wav\n",
      "Processing: PD_Detection/PD/AH_545692309-EA8C4DC0-9B2A-4CC7-A490-851A2129A733.wav\n",
      "Processing: PD_Detection/PD/AH_545616858-3A749CBC-3FEB-4D35-820E-E45C3E5B9B6A.wav\n",
      "Processing: PD_Detection/PD/AH_545713222-DA13DC3A-F24B-454E-984F-19DF19328D39.wav\n",
      "Processing: PD_Detection/PD/AH_545622720-E1486AF6-8C95-47EB-829B-4D62698C987A.wav\n",
      "Processing: PD_Detection/PD/AH_545622717-461DFFFE-54AF-42AF-BA78-528BD505D624.wav\n",
      "Processing: PD_Detection/PD/AH_545692315-C2972597-9AEC-4060-A186-F1F59340640C.wav\n",
      "Processing: PD_Detection/PD/AH_545622718-C052AD58-5E6B-4ADC-855C-F76B66BAFA6E.wav\n",
      "Processing: PD_Detection/PD/AH_545629296-C2C009C6-8C17-42EA-B6BE-362942FC4692.wav\n",
      "Processing: PD_Detection/PD/AH_545643618-82A143AC-B643-4273-A923-C42A83AEEC5F.wav\n",
      "Processing: PD_Detection/PD/AH_545648867-CB17D873-1CEA-492A-B5B0-93C7463F516C.wav\n",
      "Processing: PD_Detection/PD/AH_545622722-3C79DA68-36BB-43A2-B29C-61AEF480E07E.wav\n"
     ]
    }
   ],
   "source": [
    "data = []\n",
    "success = 0\n",
    "fail_log = []\n",
    "\n",
    "for label in ['Healthy', 'PD']:\n",
    "    folder = os.path.join(data_dir, label)\n",
    "    for file in os.listdir(folder):\n",
    "        if file.endswith(\".wav\"):\n",
    "            file_path = os.path.join(folder, file)\n",
    "            print(f\"Processing: {file_path}\")\n",
    "            try:\n",
    "                y, sr = librosa.load(file_path, sr=None)\n",
    "\n",
    "                mfcc_feats = extract_mfcc(y, sr)\n",
    "                gfcc_feats = extract_gfcc(y, sr)\n",
    "                lpc_feats = extract_lpc(y, sr)\n",
    "                lpcc_feats = extract_lpcc(lpc_feats)\n",
    "                jitter, shimmer, hnr, f0 = extract_jitter_shimmer_hnr_f0(y, sr)\n",
    "                features = np.concatenate([mfcc_feats, gfcc_feats, lpc_feats, lpcc_feats,\n",
    "                                           [jitter, shimmer, hnr, f0]])\n",
    "                data.append(np.append(features, label))\n",
    "                success += 1\n",
    "            except Exception as e:\n",
    "                print(f\"Failed on {file}: {e}\")\n",
    "                fail_log.append((file_path, str(e)))"
   ]
  },
  {
   "cell_type": "code",
   "execution_count": 19,
   "id": "da9ea491-e2e2-426c-a2d8-8e2cff3d550b",
   "metadata": {},
   "outputs": [
    {
     "name": "stdout",
     "output_type": "stream",
     "text": [
      "\n",
      "Extraction complete: 26 files processed successfully.\n",
      "Failed files: 0\n"
     ]
    }
   ],
   "source": [
    "columns = (\n",
    "    [f\"MFCC_{i+1}\" for i in range(13)] +\n",
    "    [f\"GFCC_{i+1}\" for i in range(13)] +\n",
    "    [f\"LPC_{i+1}\" for i in range(13)] +\n",
    "    [f\"LPCC_{i+1}\" for i in range(13)] +\n",
    "    [\"Jitter\", \"Shimmer\", \"HNR\", \"F0\", \"Label\"]\n",
    ")\n",
    "\n",
    "df = pd.DataFrame(data, columns=columns)\n",
    "df.to_csv(output_csv , index=False)\n",
    "\n",
    "print(f\"\\nExtraction complete: {success} files processed successfully.\")\n",
    "print(f\"Failed files: {len(fail_log)}\")\n",
    "if fail_log:\n",
    "    print(\"First few failed files:\")\n",
    "    for f, err in fail_log[:5]:\n",
    "        print(f\"  - {f}: {err}\")"
   ]
  },
  {
   "cell_type": "code",
   "execution_count": 20,
   "id": "178c5459-1c0a-4c1c-853c-fbfee66ffb1e",
   "metadata": {},
   "outputs": [
    {
     "name": "stdout",
     "output_type": "stream",
     "text": [
      "(26, 57)\n",
      "Label\n",
      "Healthy    13\n",
      "PD         13\n",
      "Name: count, dtype: int64\n"
     ]
    }
   ],
   "source": [
    "import pandas as pd\n",
    "df = pd.read_csv(\"voice_features_final.csv\")\n",
    "print(df.shape)\n",
    "print(df['Label'].value_counts())"
   ]
  },
  {
   "cell_type": "code",
   "execution_count": 21,
   "id": "b2512336-91d0-4efc-ad33-09e3cd3c0a81",
   "metadata": {},
   "outputs": [
    {
     "name": "stdout",
     "output_type": "stream",
     "text": [
      "Final shape: (26, 56)\n",
      "Columns: ['MFCC_1', 'MFCC_2', 'MFCC_3', 'MFCC_4', 'MFCC_5', 'MFCC_6', 'MFCC_7', 'MFCC_8', 'MFCC_9', 'MFCC_10', 'MFCC_11', 'MFCC_12', 'MFCC_13', 'GFCC_1', 'GFCC_2', 'GFCC_3', 'GFCC_4', 'GFCC_5', 'GFCC_6', 'GFCC_7', 'GFCC_8', 'GFCC_9', 'GFCC_10', 'GFCC_11', 'GFCC_12', 'GFCC_13', 'LPC_1', 'LPC_2', 'LPC_3', 'LPC_4', 'LPC_5', 'LPC_6', 'LPC_7', 'LPC_8', 'LPC_9', 'LPC_10', 'LPC_11', 'LPC_12', 'LPC_13', 'LPCC_1', 'LPCC_2', 'LPCC_3', 'LPCC_4', 'LPCC_5', 'LPCC_6', 'LPCC_7', 'LPCC_8', 'LPCC_9', 'LPCC_10', 'LPCC_11', 'LPCC_12', 'LPCC_13', 'Jitter', 'Shimmer', 'F0', 'Label']\n",
      " Model and scaler saved successfully.\n"
     ]
    }
   ],
   "source": [
    "import pandas as pd\n",
    "\n",
    "df = pd.read_csv(\"voice_features_final.csv\")\n",
    "\n",
    "df.dropna(axis=1, how=\"all\", inplace=True)\n",
    "\n",
    "df = df.dropna()\n",
    "\n",
    "print(\"Final shape:\", df.shape)\n",
    "print(\"Columns:\", df.columns.tolist())\n",
    "\n",
    "X = df.drop(columns=[\"Label\"])\n",
    "y = df[\"Label\"].map({\"Healthy\": 0, \"PD\": 1})\n",
    "\n",
    "from sklearn.preprocessing import StandardScaler\n",
    "scaler = StandardScaler()\n",
    "X_scaled = scaler.fit_transform(X)\n",
    "\n",
    "from sklearn.model_selection import train_test_split\n",
    "from sklearn.svm import SVC\n",
    "import joblib\n",
    "\n",
    "X_train, X_test, y_train, y_test = train_test_split(X_scaled, y, test_size=0.2, stratify=y)\n",
    "\n",
    "model = SVC(kernel=\"rbf\", C=1.0)\n",
    "model.fit(X_train, y_train)\n",
    "\n",
    "joblib.dump(model, \"svm_model.pkl\")\n",
    "joblib.dump(scaler, \"scaler.pkl\")\n",
    "\n",
    "print(\" Model and scaler saved successfully.\")"
   ]
  },
  {
   "cell_type": "code",
   "execution_count": 22,
   "id": "91920a78-db8c-44f4-9aa1-1be38a98d8d2",
   "metadata": {},
   "outputs": [
    {
     "name": "stdout",
     "output_type": "stream",
     "text": [
      "Sample 1: True = Healthy, Predicted = Healthy\n",
      "Sample 2: True = Healthy, Predicted = Healthy\n",
      "Sample 3: True = Healthy, Predicted = Healthy\n",
      "Sample 4: True = Healthy, Predicted = Healthy\n",
      "Sample 5: True = Healthy, Predicted = Healthy\n",
      "Sample 6: True = Healthy, Predicted = Healthy\n",
      "Sample 7: True = Healthy, Predicted = Healthy\n",
      "Sample 8: True = Healthy, Predicted = Healthy\n",
      "Sample 9: True = Healthy, Predicted = Healthy\n",
      "Sample 10: True = Healthy, Predicted = Healthy\n",
      "Sample 11: True = Healthy, Predicted = PD\n",
      "Sample 12: True = Healthy, Predicted = Healthy\n",
      "Sample 13: True = Healthy, Predicted = Healthy\n",
      "Sample 14: True = PD, Predicted = PD\n",
      "Sample 15: True = PD, Predicted = PD\n",
      "Sample 16: True = PD, Predicted = Healthy\n",
      "Sample 17: True = PD, Predicted = PD\n",
      "Sample 18: True = PD, Predicted = PD\n",
      "Sample 19: True = PD, Predicted = PD\n",
      "Sample 20: True = PD, Predicted = PD\n",
      "Sample 21: True = PD, Predicted = PD\n",
      "Sample 22: True = PD, Predicted = PD\n",
      "Sample 23: True = PD, Predicted = PD\n",
      "Sample 24: True = PD, Predicted = PD\n",
      "Sample 25: True = PD, Predicted = PD\n",
      "Sample 26: True = PD, Predicted = PD\n",
      "\n",
      "Classification Report:\n",
      "              precision    recall  f1-score   support\n",
      "\n",
      "     Healthy       0.92      0.92      0.92        13\n",
      "          PD       0.92      0.92      0.92        13\n",
      "\n",
      "    accuracy                           0.92        26\n",
      "   macro avg       0.92      0.92      0.92        26\n",
      "weighted avg       0.92      0.92      0.92        26\n",
      "\n",
      "Accuracy: 0.9230769230769231\n"
     ]
    }
   ],
   "source": [
    "import pandas as pd\n",
    "import joblib\n",
    "from sklearn.metrics import classification_report, accuracy_score\n",
    "\n",
    "df = pd.read_csv(\"voice_features_final.csv\")\n",
    "X = df.drop(columns=[\"Label\", \"HNR\"])\n",
    "y_true = df[\"Label\"]\n",
    "\n",
    "scaler = joblib.load(\"scaler.pkl\")\n",
    "model = joblib.load(\"svm_model.pkl\")\n",
    "\n",
    "X_scaled = scaler.transform(X)\n",
    "\n",
    "y_pred = model.predict(X_scaled)\n",
    "\n",
    "label_map = {0: \"Healthy\", 1: \"PD\"}\n",
    "decoded_pred = [label_map[i] for i in y_pred]\n",
    "\n",
    "for i, (true_label, pred_label) in enumerate(zip(y_true, decoded_pred)):\n",
    "    print(f\"Sample {i+1}: True = {true_label}, Predicted = {pred_label}\")\n",
    "\n",
    "print(\"\\nClassification Report:\")\n",
    "print(classification_report(y_true, decoded_pred))\n",
    "print(\"Accuracy:\", accuracy_score(y_true, decoded_pred))"
   ]
  },
  {
   "cell_type": "code",
   "execution_count": 23,
   "id": "2f891388-5187-43ad-9bf8-7bbabad33c6c",
   "metadata": {},
   "outputs": [
    {
     "data": {
      "image/png": "[encoded data removed]",
      "text/plain": [
       "<Figure size 500x400 with 2 Axes>"
      ]
     },
     "metadata": {},
     "output_type": "display_data"
    }
   ],
   "source": [
    "import pandas as pd\n",
    "import joblib\n",
    "from sklearn.metrics import confusion_matrix, ConfusionMatrixDisplay\n",
    "import matplotlib.pyplot as plt\n",
    "\n",
    "df = pd.read_csv(\"voice_features_final.csv\")\n",
    "\n",
    "X = df.drop(columns=[\"Label\", \"HNR\"])\n",
    "y_true = df[\"Label\"].map({\"Healthy\": 0, \"PD\": 1})\n",
    "\n",
    "scaler = joblib.load(\"scaler.pkl\")\n",
    "model = joblib.load(\"svm_model.pkl\")\n",
    "\n",
    "X_scaled = scaler.transform(X)\n",
    "y_pred = model.predict(X_scaled)\n",
    "\n",
    "cm = confusion_matrix(y_true, y_pred, labels=[0, 1])\n",
    "disp = ConfusionMatrixDisplay(confusion_matrix=cm, display_labels=[\"Healthy\", \"PD\"])\n",
    "\n",
    "fig, ax = plt.subplots(figsize=(5, 4))\n",
    "disp.plot(ax=ax, cmap='Blues', values_format='d')\n",
    "plt.title(\"Confusion Matrix\")\n",
    "plt.show()"
   ]
  },
  {
   "cell_type": "code",
   "execution_count": null,
   "id": "e1ddebd9-3232-4ac3-84c0-678e10aa4ba7",
   "metadata": {},
   "outputs": [],
   "source": []
  }
 ],
 "metadata": {
  "kernelspec": {
   "display_name": "Python [conda env:base] *",
   "language": "python",
   "name": "conda-base-py"
  },
  "language_info": {
   "codemirror_mode": {
    "name": "ipython",
    "version": 3
   },
   "file_extension": ".py",
   "mimetype": "text/x-python",
   "name": "python",
   "nbconvert_exporter": "python",
   "pygments_lexer": "ipython3",
   "version": "3.12.7"
  }
 },
 "nbformat": 4,
 "nbformat_minor": 5
}
